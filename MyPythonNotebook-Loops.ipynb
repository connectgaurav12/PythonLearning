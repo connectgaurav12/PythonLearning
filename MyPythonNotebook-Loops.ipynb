{
 "cells": [
  {
   "cell_type": "code",
   "execution_count": 1,
   "id": "c6b7c5d3-552d-479d-b358-ee3db85757b3",
   "metadata": {},
   "outputs": [],
   "source": [
    "seq = [1,2,3,4,5,6,7]"
   ]
  },
  {
   "cell_type": "code",
   "execution_count": 9,
   "id": "458f0ae1-9a6d-4a37-9dc3-6066528af323",
   "metadata": {},
   "outputs": [
    {
     "name": "stdout",
     "output_type": "stream",
     "text": [
      "1 d\n",
      "2 d\n",
      "3 d\n",
      "4 d\n",
      "5 d\n",
      "6 d\n",
      "7 d\n"
     ]
    }
   ],
   "source": [
    "for num in seq:\n",
    "    print(num,\"d\")"
   ]
  },
  {
   "cell_type": "code",
   "execution_count": 13,
   "id": "52a534fd-adbc-4551-8b10-ea571def2ce0",
   "metadata": {},
   "outputs": [
    {
     "name": "stdout",
     "output_type": "stream",
     "text": [
      "i is 1\n",
      "i is 2\n",
      "i is 3\n",
      "i is 4\n",
      "i is 5\n"
     ]
    }
   ],
   "source": [
    "i=1\n",
    "while i<=5:\n",
    "    print('i is {}'.format(i))\n",
    "    i=i+1"
   ]
  },
  {
   "cell_type": "code",
   "execution_count": 15,
   "id": "780bbd7e-0d36-4564-a136-859d0963b6da",
   "metadata": {},
   "outputs": [
    {
     "name": "stdout",
     "output_type": "stream",
     "text": [
      "1\n",
      "2\n",
      "3\n",
      "4\n",
      "5\n",
      "6\n",
      "7\n"
     ]
    }
   ],
   "source": [
    "for x in seq:\n",
    "    print(x)"
   ]
  },
  {
   "cell_type": "code",
   "execution_count": 17,
   "id": "20df00d3-a32a-4c3b-9552-990bd0385d8b",
   "metadata": {},
   "outputs": [
    {
     "name": "stdout",
     "output_type": "stream",
     "text": [
      "0\n",
      "1\n",
      "2\n",
      "3\n",
      "4\n"
     ]
    }
   ],
   "source": [
    "for x in range(0,5):\n",
    "    print(x)"
   ]
  },
  {
   "cell_type": "code",
   "execution_count": 19,
   "id": "fa58fcf0-e708-4d1c-9a54-7aa6a9f98466",
   "metadata": {},
   "outputs": [
    {
     "data": {
      "text/plain": [
       "[3, 4, 5, 6, 7, 8, 9]"
      ]
     },
     "execution_count": 19,
     "metadata": {},
     "output_type": "execute_result"
    }
   ],
   "source": [
    "list(range(3,10))"
   ]
  },
  {
   "cell_type": "code",
   "execution_count": 21,
   "id": "9a85b978-aa81-4e77-9a77-110cfdf0c263",
   "metadata": {},
   "outputs": [],
   "source": [
    "x=[1,2,3,4]"
   ]
  },
  {
   "cell_type": "code",
   "execution_count": 25,
   "id": "224a69ba-2956-4144-953a-3e69f0aad436",
   "metadata": {},
   "outputs": [
    {
     "name": "stdout",
     "output_type": "stream",
     "text": [
      "[1, 4, 9, 16]\n"
     ]
    }
   ],
   "source": [
    "out=[]\n",
    "for num in x:\n",
    "    out.append(num**2)\n",
    "print(out)"
   ]
  },
  {
   "cell_type": "code",
   "execution_count": 27,
   "id": "715f1def-1b41-4afb-b031-bf83b26cc80b",
   "metadata": {},
   "outputs": [],
   "source": [
    "x.append(out)"
   ]
  },
  {
   "cell_type": "code",
   "execution_count": 35,
   "id": "460c2aa2-f36e-4f70-9a03-da87b0f72bec",
   "metadata": {},
   "outputs": [],
   "source": [
    "x=[1,2,3,4]"
   ]
  },
  {
   "cell_type": "code",
   "execution_count": 37,
   "id": "f7880e12-2813-44d9-8857-a66201ea1851",
   "metadata": {},
   "outputs": [
    {
     "data": {
      "text/plain": [
       "[1, 4, 9, 16]"
      ]
     },
     "execution_count": 37,
     "metadata": {},
     "output_type": "execute_result"
    }
   ],
   "source": [
    "[num**2 for num in x]"
   ]
  },
  {
   "cell_type": "code",
   "execution_count": null,
   "id": "6bfa6f5e-ca6a-4dcb-a326-f3d4573d099c",
   "metadata": {},
   "outputs": [],
   "source": []
  }
 ],
 "metadata": {
  "kernelspec": {
   "display_name": "anaconda-panel-2023.05-py310",
   "language": "python",
   "name": "conda-env-anaconda-panel-2023.05-py310-py"
  },
  "language_info": {
   "codemirror_mode": {
    "name": "ipython",
    "version": 3
   },
   "file_extension": ".py",
   "mimetype": "text/x-python",
   "name": "python",
   "nbconvert_exporter": "python",
   "pygments_lexer": "ipython3",
   "version": "3.11.5"
  }
 },
 "nbformat": 4,
 "nbformat_minor": 5
}
