{
 "cells": [
  {
   "cell_type": "code",
   "execution_count": null,
   "id": "bafd30f0-c824-403a-843c-7a7d0919aea9",
   "metadata": {},
   "outputs": [],
   "source": [
    "1+1"
   ]
  },
  {
   "cell_type": "code",
   "execution_count": 7,
   "id": "7a82c64d-05e6-4d04-b24e-d6ea86a4a889",
   "metadata": {},
   "outputs": [
    {
     "name": "stdout",
     "output_type": "stream",
     "text": [
      "7\n"
     ]
    }
   ],
   "source": [
    "b=int(3)\n",
    "c=int(4)\n",
    "a=b+c;\n",
    "print(str(a))"
   ]
  },
  {
   "cell_type": "code",
   "execution_count": 12,
   "id": "432d5385-29e5-4913-b6cb-ab92e76ff1b0",
   "metadata": {},
   "outputs": [
    {
     "data": {
      "text/plain": [
       "3"
      ]
     },
     "execution_count": 12,
     "metadata": {},
     "output_type": "execute_result"
    }
   ],
   "source": [
    "1*3"
   ]
  },
  {
   "cell_type": "code",
   "execution_count": 14,
   "id": "6ebe87e8-682f-4586-bdc0-a2b020e9b4f1",
   "metadata": {},
   "outputs": [
    {
     "data": {
      "text/plain": [
       "2.5"
      ]
     },
     "execution_count": 14,
     "metadata": {},
     "output_type": "execute_result"
    }
   ],
   "source": [
    "5/2"
   ]
  },
  {
   "cell_type": "code",
   "execution_count": 16,
   "id": "0367418f-37f1-4476-addc-39bc2127cc75",
   "metadata": {},
   "outputs": [
    {
     "data": {
      "text/plain": [
       "16"
      ]
     },
     "execution_count": 16,
     "metadata": {},
     "output_type": "execute_result"
    }
   ],
   "source": [
    "2**4"
   ]
  },
  {
   "cell_type": "code",
   "execution_count": 18,
   "id": "e5f878a0-6c71-4a1a-9d9d-e510ac5c16da",
   "metadata": {},
   "outputs": [
    {
     "data": {
      "text/plain": [
       "3"
      ]
     },
     "execution_count": 18,
     "metadata": {},
     "output_type": "execute_result"
    }
   ],
   "source": [
    "7%4"
   ]
  },
  {
   "cell_type": "code",
   "execution_count": 20,
   "id": "57c02584-6045-46ce-9623-1d03e01102f8",
   "metadata": {},
   "outputs": [],
   "source": [
    "a=34"
   ]
  },
  {
   "cell_type": "code",
   "execution_count": 22,
   "id": "01341c43-1913-43cd-ac3c-5098490ab7c8",
   "metadata": {},
   "outputs": [
    {
     "data": {
      "text/plain": [
       "34"
      ]
     },
     "execution_count": 22,
     "metadata": {},
     "output_type": "execute_result"
    }
   ],
   "source": [
    "a"
   ]
  },
  {
   "cell_type": "code",
   "execution_count": 24,
   "id": "c113aaa1-e163-48ea-9991-e7bb2de7af1b",
   "metadata": {},
   "outputs": [
    {
     "data": {
      "text/plain": [
       "66"
      ]
     },
     "execution_count": 24,
     "metadata": {},
     "output_type": "execute_result"
    }
   ],
   "source": [
    "a+32"
   ]
  },
  {
   "cell_type": "code",
   "execution_count": 26,
   "id": "7312695a-4082-462d-b477-e6a446b9ee55",
   "metadata": {},
   "outputs": [],
   "source": [
    "#strings"
   ]
  },
  {
   "cell_type": "code",
   "execution_count": 28,
   "id": "e675b7fe-3738-4bcc-b698-ebd7a7d60e9d",
   "metadata": {},
   "outputs": [
    {
     "data": {
      "text/plain": [
       "'Single quote String'"
      ]
     },
     "execution_count": 28,
     "metadata": {},
     "output_type": "execute_result"
    }
   ],
   "source": [
    "'Single quote String'"
   ]
  },
  {
   "cell_type": "code",
   "execution_count": 30,
   "id": "c571e8ef-52af-4b64-975e-114f247de947",
   "metadata": {},
   "outputs": [],
   "source": [
    "x=\"hello\""
   ]
  },
  {
   "cell_type": "code",
   "execution_count": 32,
   "id": "30b7e9da-5bd9-4757-abfc-6e072c38a675",
   "metadata": {},
   "outputs": [
    {
     "data": {
      "text/plain": [
       "'hello'"
      ]
     },
     "execution_count": 32,
     "metadata": {},
     "output_type": "execute_result"
    }
   ],
   "source": [
    "x"
   ]
  },
  {
   "cell_type": "code",
   "execution_count": 34,
   "id": "c5ae0cb7-ef56-4dcc-b101-be1613e9b321",
   "metadata": {},
   "outputs": [
    {
     "name": "stdout",
     "output_type": "stream",
     "text": [
      "hello\n"
     ]
    }
   ],
   "source": [
    "print(x)"
   ]
  },
  {
   "cell_type": "code",
   "execution_count": 36,
   "id": "78c9c736-5c1f-4976-aeb9-2b90c04c4de4",
   "metadata": {},
   "outputs": [],
   "source": [
    "age=23\n",
    "name=\"Sam\""
   ]
  },
  {
   "cell_type": "code",
   "execution_count": 44,
   "id": "130b4863-f14d-448d-b11f-ec6155dac50c",
   "metadata": {},
   "outputs": [
    {
     "name": "stdout",
     "output_type": "stream",
     "text": [
      "My name is Sam and my age is 23\n"
     ]
    }
   ],
   "source": [
    "print(\"My name is {} and my age is {}\".format(name, age))"
   ]
  },
  {
   "cell_type": "code",
   "execution_count": 50,
   "id": "5113c167-d49e-45b8-96b6-8cebd9132b54",
   "metadata": {},
   "outputs": [
    {
     "name": "stdout",
     "output_type": "stream",
     "text": [
      "My name is Sam and my age is 23\n"
     ]
    }
   ],
   "source": [
    "print(\"My name is {a} and my age is {b}\".format(a=name, b=age))"
   ]
  },
  {
   "cell_type": "code",
   "execution_count": 52,
   "id": "7603ec35-a7f4-4348-941b-7cc54fe36e6d",
   "metadata": {},
   "outputs": [],
   "source": [
    "s=\"hello\""
   ]
  },
  {
   "cell_type": "code",
   "execution_count": 58,
   "id": "37a9ad92-aa6f-4012-952f-b8a1fac3dc6e",
   "metadata": {},
   "outputs": [
    {
     "data": {
      "text/plain": [
       "'hel'"
      ]
     },
     "execution_count": 58,
     "metadata": {},
     "output_type": "execute_result"
    }
   ],
   "source": [
    "s[0:3]"
   ]
  },
  {
   "cell_type": "markdown",
   "id": "f281aa6c-5f63-4b38-8dd9-432b4dbd472d",
   "metadata": {},
   "source": [
    "List"
   ]
  },
  {
   "cell_type": "code",
   "execution_count": 61,
   "id": "dac736e6-72a7-49a7-962b-7986457152f5",
   "metadata": {},
   "outputs": [
    {
     "data": {
      "text/plain": [
       "[1, 2, 3, 4, 5, 6]"
      ]
     },
     "execution_count": 61,
     "metadata": {},
     "output_type": "execute_result"
    }
   ],
   "source": [
    "[1,2,3,4,5,6]"
   ]
  },
  {
   "cell_type": "code",
   "execution_count": 63,
   "id": "78a61632-6422-4a58-a6ae-9103942ca872",
   "metadata": {},
   "outputs": [],
   "source": [
    "my_list=['a','b','c','d']"
   ]
  },
  {
   "cell_type": "code",
   "execution_count": 65,
   "id": "e7f6af14-5c95-4c81-b5a7-67d7dde1ecc4",
   "metadata": {},
   "outputs": [],
   "source": [
    "my_list.append('e')"
   ]
  },
  {
   "cell_type": "code",
   "execution_count": 67,
   "id": "3a784b5c-28bc-4cec-a3c1-37383d707c33",
   "metadata": {},
   "outputs": [
    {
     "data": {
      "text/plain": [
       "['a', 'b', 'c', 'd', 'e']"
      ]
     },
     "execution_count": 67,
     "metadata": {},
     "output_type": "execute_result"
    }
   ],
   "source": [
    "my_list"
   ]
  },
  {
   "cell_type": "code",
   "execution_count": 6,
   "id": "e0ca7db2-bf6b-48d8-897b-ac9b259b3df6",
   "metadata": {},
   "outputs": [],
   "source": [
    "lis=[2,3,'ee''r','e','44e']"
   ]
  },
  {
   "cell_type": "code",
   "execution_count": 8,
   "id": "7ebf84a3-98b2-4506-a6ce-ed9806028f7c",
   "metadata": {},
   "outputs": [
    {
     "name": "stdout",
     "output_type": "stream",
     "text": [
      "e\n"
     ]
    }
   ],
   "source": [
    "print(lis[3])"
   ]
  },
  {
   "cell_type": "code",
   "execution_count": 12,
   "id": "c29d3a85-aa79-41fa-8d28-d59d67222a18",
   "metadata": {},
   "outputs": [
    {
     "name": "stdout",
     "output_type": "stream",
     "text": [
      "[3, 'eer', 'e']\n"
     ]
    }
   ],
   "source": [
    "print(lis[1:4])"
   ]
  },
  {
   "cell_type": "code",
   "execution_count": 14,
   "id": "d0283258-b296-4d71-a802-d9de7a4b54ef",
   "metadata": {},
   "outputs": [
    {
     "name": "stdout",
     "output_type": "stream",
     "text": [
      "[2, 3, 'eer', 'e']\n"
     ]
    }
   ],
   "source": [
    "print(lis[:4])"
   ]
  },
  {
   "cell_type": "code",
   "execution_count": 16,
   "id": "bb839330-812c-4c02-8818-ef04dbbb01e5",
   "metadata": {},
   "outputs": [
    {
     "name": "stdout",
     "output_type": "stream",
     "text": [
      "['44e']\n"
     ]
    }
   ],
   "source": [
    "print(lis[-1:])"
   ]
  },
  {
   "cell_type": "code",
   "execution_count": 20,
   "id": "60c1bd26-68f7-4815-8a2c-841915d86dfa",
   "metadata": {},
   "outputs": [
    {
     "name": "stdout",
     "output_type": "stream",
     "text": [
      "['e', '44e']\n"
     ]
    }
   ],
   "source": [
    "print(lis[-2:])"
   ]
  },
  {
   "cell_type": "code",
   "execution_count": 22,
   "id": "739978b8-704b-4b98-a718-c7c42da9ee48",
   "metadata": {},
   "outputs": [
    {
     "name": "stdout",
     "output_type": "stream",
     "text": [
      "[2, 3, 'eer', 'e']\n"
     ]
    }
   ],
   "source": [
    "print(lis[:-1])"
   ]
  },
  {
   "cell_type": "code",
   "execution_count": 54,
   "id": "7946c0e9-614c-43d4-bdc1-77335de6a797",
   "metadata": {},
   "outputs": [],
   "source": [
    "dic = {'k1':'hello', 'k2':'world', 'k3':{\"n1\":\"test\",\"n2\":[2,3,5,3]}, 'k4':'are', \"k5\":'you'}"
   ]
  },
  {
   "cell_type": "code",
   "execution_count": 56,
   "id": "3a5461ca-f44c-4a4f-9e67-b91db9416303",
   "metadata": {},
   "outputs": [
    {
     "data": {
      "text/plain": [
       "{'n1': 'test', 'n2': [2, 3, 5, 3]}"
      ]
     },
     "execution_count": 56,
     "metadata": {},
     "output_type": "execute_result"
    }
   ],
   "source": [
    "dic['k3']"
   ]
  },
  {
   "cell_type": "code",
   "execution_count": 62,
   "id": "f22ad5ad-3bcd-4763-8a8c-a3b7609479ee",
   "metadata": {},
   "outputs": [
    {
     "data": {
      "text/plain": [
       "3"
      ]
     },
     "execution_count": 62,
     "metadata": {},
     "output_type": "execute_result"
    }
   ],
   "source": [
    "dic['k3']['n2'][1]"
   ]
  },
  {
   "cell_type": "code",
   "execution_count": 64,
   "id": "e4761c3f-1e29-45a5-98a2-e559f355c594",
   "metadata": {},
   "outputs": [],
   "source": [
    "tup=(1,3,5)"
   ]
  },
  {
   "cell_type": "code",
   "execution_count": 66,
   "id": "98d38095-1d47-4faa-99af-9da0f7df0a6c",
   "metadata": {},
   "outputs": [
    {
     "data": {
      "text/plain": [
       "5"
      ]
     },
     "execution_count": 66,
     "metadata": {},
     "output_type": "execute_result"
    }
   ],
   "source": [
    "tup[2]"
   ]
  },
  {
   "cell_type": "code",
   "execution_count": 68,
   "id": "71dd48e4-247b-44dd-b805-f6ab5ef09847",
   "metadata": {},
   "outputs": [
    {
     "ename": "IndexError",
     "evalue": "tuple index out of range",
     "output_type": "error",
     "traceback": [
      "\u001b[0;31m---------------------------------------------------------------------------\u001b[0m",
      "\u001b[0;31mIndexError\u001b[0m                                Traceback (most recent call last)",
      "Cell \u001b[0;32mIn[68], line 1\u001b[0m\n\u001b[0;32m----> 1\u001b[0m tup[\u001b[38;5;241m3\u001b[39m]\n",
      "\u001b[0;31mIndexError\u001b[0m: tuple index out of range"
     ]
    }
   ],
   "source": [
    "tup[3]"
   ]
  },
  {
   "cell_type": "code",
   "execution_count": 72,
   "id": "f09314a1-6a8f-42c1-bb43-d1a76683224f",
   "metadata": {},
   "outputs": [
    {
     "ename": "TypeError",
     "evalue": "'tuple' object does not support item assignment",
     "output_type": "error",
     "traceback": [
      "\u001b[0;31m---------------------------------------------------------------------------\u001b[0m",
      "\u001b[0;31mTypeError\u001b[0m                                 Traceback (most recent call last)",
      "Cell \u001b[0;32mIn[72], line 1\u001b[0m\n\u001b[0;32m----> 1\u001b[0m tup[\u001b[38;5;241m2\u001b[39m]\u001b[38;5;241m=\u001b[39m\u001b[38;5;124m\"\u001b[39m\u001b[38;5;124m223\u001b[39m\u001b[38;5;124m\"\u001b[39m\n",
      "\u001b[0;31mTypeError\u001b[0m: 'tuple' object does not support item assignment"
     ]
    }
   ],
   "source": [
    "tup[2]=\"223\""
   ]
  },
  {
   "cell_type": "code",
   "execution_count": 74,
   "id": "d3037079-371d-4492-8212-f791b1245dae",
   "metadata": {},
   "outputs": [],
   "source": [
    "s={1,2,3,4,5,5,4,4,5,6,5,4}"
   ]
  },
  {
   "cell_type": "code",
   "execution_count": 76,
   "id": "f4728a5f-44b5-4620-8f0e-d40990ec4d00",
   "metadata": {},
   "outputs": [
    {
     "data": {
      "text/plain": [
       "{1, 2, 3, 4, 5, 6}"
      ]
     },
     "execution_count": 76,
     "metadata": {},
     "output_type": "execute_result"
    }
   ],
   "source": [
    "s"
   ]
  },
  {
   "cell_type": "code",
   "execution_count": 82,
   "id": "ce01608e-acea-4f92-97ed-a1202d295816",
   "metadata": {},
   "outputs": [
    {
     "data": {
      "text/plain": [
       "{2, 3, 4, 5, 53}"
      ]
     },
     "execution_count": 82,
     "metadata": {},
     "output_type": "execute_result"
    }
   ],
   "source": [
    "set([2,3,4,4,4,4,2,2,2,5,5,5,53,3,3])"
   ]
  },
  {
   "cell_type": "code",
   "execution_count": 86,
   "id": "55a12af8-22fb-41d6-a734-be222153cd50",
   "metadata": {},
   "outputs": [],
   "source": [
    "s={1,2,3}\n",
    "s.add(4)"
   ]
  },
  {
   "cell_type": "code",
   "execution_count": 88,
   "id": "548fe8a0-d571-4109-9208-847d84e70e84",
   "metadata": {},
   "outputs": [
    {
     "data": {
      "text/plain": [
       "{1, 2, 3, 4}"
      ]
     },
     "execution_count": 88,
     "metadata": {},
     "output_type": "execute_result"
    }
   ],
   "source": [
    "s"
   ]
  },
  {
   "cell_type": "code",
   "execution_count": 90,
   "id": "bced12d9-4e46-45ff-a7da-dc63bf425b55",
   "metadata": {},
   "outputs": [
    {
     "data": {
      "text/plain": [
       "True"
      ]
     },
     "execution_count": 90,
     "metadata": {},
     "output_type": "execute_result"
    }
   ],
   "source": [
    "1==1"
   ]
  },
  {
   "cell_type": "code",
   "execution_count": 92,
   "id": "421df03b-4793-4d8d-a431-ee64a0c3abef",
   "metadata": {},
   "outputs": [
    {
     "data": {
      "text/plain": [
       "False"
      ]
     },
     "execution_count": 92,
     "metadata": {},
     "output_type": "execute_result"
    }
   ],
   "source": [
    "1!=1"
   ]
  },
  {
   "cell_type": "code",
   "execution_count": 94,
   "id": "1b6adbd3-8399-4a9b-975e-a5b7207ae168",
   "metadata": {},
   "outputs": [
    {
     "data": {
      "text/plain": [
       "True"
      ]
     },
     "execution_count": 94,
     "metadata": {},
     "output_type": "execute_result"
    }
   ],
   "source": [
    "'hi'=='hi'"
   ]
  },
  {
   "cell_type": "code",
   "execution_count": 96,
   "id": "6e037516-e69d-4ff4-a215-7199c0333718",
   "metadata": {},
   "outputs": [
    {
     "data": {
      "text/plain": [
       "True"
      ]
     },
     "execution_count": 96,
     "metadata": {},
     "output_type": "execute_result"
    }
   ],
   "source": [
    "1 < 2 and 2<3"
   ]
  },
  {
   "cell_type": "code",
   "execution_count": null,
   "id": "a4d2fa0c-aea1-422c-aaf0-9742fded5920",
   "metadata": {},
   "outputs": [],
   "source": []
  }
 ],
 "metadata": {
  "kernelspec": {
   "display_name": "anaconda-panel-2023.05-py310",
   "language": "python",
   "name": "conda-env-anaconda-panel-2023.05-py310-py"
  },
  "language_info": {
   "codemirror_mode": {
    "name": "ipython",
    "version": 3
   },
   "file_extension": ".py",
   "mimetype": "text/x-python",
   "name": "python",
   "nbconvert_exporter": "python",
   "pygments_lexer": "ipython3",
   "version": "3.11.5"
  }
 },
 "nbformat": 4,
 "nbformat_minor": 5
}
