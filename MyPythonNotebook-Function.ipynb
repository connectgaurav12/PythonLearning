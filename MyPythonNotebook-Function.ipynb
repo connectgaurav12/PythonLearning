{
 "cells": [
  {
   "cell_type": "code",
   "execution_count": 13,
   "id": "ae269485-ff9c-4764-8c08-5b44ddfcf35e",
   "metadata": {},
   "outputs": [],
   "source": [
    "def fun1(name=\"Default\"):\n",
    "    print(\"Hello \" + name)"
   ]
  },
  {
   "cell_type": "code",
   "execution_count": 15,
   "id": "40fb402b-f4d2-4679-9df9-57e2f92cf081",
   "metadata": {},
   "outputs": [
    {
     "name": "stdout",
     "output_type": "stream",
     "text": [
      "Hello Gaurav\n"
     ]
    }
   ],
   "source": [
    "fun1(\"Gaurav\")"
   ]
  },
  {
   "cell_type": "code",
   "execution_count": 17,
   "id": "da4563e0-afd4-4ed0-9e7a-749678fe212c",
   "metadata": {},
   "outputs": [
    {
     "name": "stdout",
     "output_type": "stream",
     "text": [
      "Hello Default\n"
     ]
    }
   ],
   "source": [
    "fun1()"
   ]
  },
  {
   "cell_type": "code",
   "execution_count": 19,
   "id": "83765e6c-0cc3-4838-a0ff-3205091ac090",
   "metadata": {},
   "outputs": [
    {
     "name": "stdout",
     "output_type": "stream",
     "text": [
      "Hello test\n"
     ]
    }
   ],
   "source": [
    "fun1(name=\"test\")"
   ]
  },
  {
   "cell_type": "code",
   "execution_count": 21,
   "id": "53ab39c5-ed46-4be0-83cd-ec278e67c332",
   "metadata": {},
   "outputs": [
    {
     "data": {
      "text/plain": [
       "<function __main__.fun1(name='Default')>"
      ]
     },
     "execution_count": 21,
     "metadata": {},
     "output_type": "execute_result"
    }
   ],
   "source": [
    "fun1"
   ]
  },
  {
   "cell_type": "code",
   "execution_count": 35,
   "id": "d5492b1e-3f1d-4489-837d-85b0211b2a64",
   "metadata": {},
   "outputs": [],
   "source": [
    "def square(num):\n",
    "    \"\"\"\n",
    "    This is a document strung\n",
    "    This function squares the number and returns.\n",
    "    \"\"\"\n",
    "    return num**2\n"
   ]
  },
  {
   "cell_type": "code",
   "execution_count": 37,
   "id": "b4c59dcf-35fb-4ebe-8542-604769d07776",
   "metadata": {},
   "outputs": [],
   "source": [
    "output=square (2)"
   ]
  },
  {
   "cell_type": "code",
   "execution_count": 39,
   "id": "a63f0019-87f8-4e22-be34-eaca37d2ddb9",
   "metadata": {},
   "outputs": [
    {
     "data": {
      "text/plain": [
       "4"
      ]
     },
     "execution_count": 39,
     "metadata": {},
     "output_type": "execute_result"
    }
   ],
   "source": [
    "output"
   ]
  },
  {
   "cell_type": "code",
   "execution_count": 79,
   "id": "3c0c9301-daff-47a1-bf88-9eeda0490ddf",
   "metadata": {},
   "outputs": [],
   "source": [
    "seq=[1,2,3,4,5,6,7,8]"
   ]
  },
  {
   "cell_type": "code",
   "execution_count": 43,
   "id": "78c2bea0-c61d-4fa8-9366-e58d9ff01890",
   "metadata": {},
   "outputs": [],
   "source": [
    "#map"
   ]
  },
  {
   "cell_type": "code",
   "execution_count": 45,
   "id": "5f9bb6ce-0bc4-4647-95a4-686fb31beb7c",
   "metadata": {},
   "outputs": [],
   "source": [
    "def times2(var):\n",
    "    return var*2"
   ]
  },
  {
   "cell_type": "code",
   "execution_count": 47,
   "id": "778be07c-62c9-4194-aec4-4763159185e5",
   "metadata": {},
   "outputs": [
    {
     "data": {
      "text/plain": [
       "<map at 0x7cdb6abb89a0>"
      ]
     },
     "execution_count": 47,
     "metadata": {},
     "output_type": "execute_result"
    }
   ],
   "source": [
    "map(times2,seq)"
   ]
  },
  {
   "cell_type": "code",
   "execution_count": 69,
   "id": "1c582f7b-b2ac-44d7-ae1c-a21f0553ea84",
   "metadata": {},
   "outputs": [
    {
     "data": {
      "text/plain": [
       "[3, 6, 9, 12, 15]"
      ]
     },
     "execution_count": 69,
     "metadata": {},
     "output_type": "execute_result"
    }
   ],
   "source": [
    "list(map(lambda num:num*3,seq))"
   ]
  },
  {
   "cell_type": "code",
   "execution_count": 71,
   "id": "1bd91fb6-95da-4346-bcc9-88082722e887",
   "metadata": {},
   "outputs": [],
   "source": [
    "t = lambda var:var*2"
   ]
  },
  {
   "cell_type": "code",
   "execution_count": 73,
   "id": "12ee6a47-99ec-4d6a-81a0-735d842d8deb",
   "metadata": {},
   "outputs": [
    {
     "data": {
      "text/plain": [
       "12"
      ]
     },
     "execution_count": 73,
     "metadata": {},
     "output_type": "execute_result"
    }
   ],
   "source": [
    "t(6)"
   ]
  },
  {
   "cell_type": "code",
   "execution_count": 75,
   "id": "2ed9089f-aab0-421a-adc8-44bea6f65ed7",
   "metadata": {},
   "outputs": [
    {
     "data": {
      "text/plain": [
       "<filter at 0x7cdb69f4c190>"
      ]
     },
     "execution_count": 75,
     "metadata": {},
     "output_type": "execute_result"
    }
   ],
   "source": [
    "filter(lambda num:num%2==0,seq)"
   ]
  },
  {
   "cell_type": "code",
   "execution_count": 81,
   "id": "0abfe109-b9c9-47a7-9a1b-da2ea39e4281",
   "metadata": {},
   "outputs": [
    {
     "data": {
      "text/plain": [
       "[2, 4, 6, 8]"
      ]
     },
     "execution_count": 81,
     "metadata": {},
     "output_type": "execute_result"
    }
   ],
   "source": [
    "list(filter(lambda num:num%2==0,seq))"
   ]
  },
  {
   "cell_type": "code",
   "execution_count": 93,
   "id": "aa94e143-74ad-4a48-ade0-982c92493740",
   "metadata": {},
   "outputs": [],
   "source": [
    "s=\"My Name is# Gaurav$\""
   ]
  },
  {
   "cell_type": "code",
   "execution_count": 87,
   "id": "583f1738-f679-4ad7-ab2c-e6f1ede7e06c",
   "metadata": {},
   "outputs": [
    {
     "name": "stdout",
     "output_type": "stream",
     "text": [
      "My name is gaurav\n"
     ]
    }
   ],
   "source": [
    "print(s.capitalize())"
   ]
  },
  {
   "cell_type": "code",
   "execution_count": 89,
   "id": "60cedc7a-cb19-405a-b3e7-0604bb87126b",
   "metadata": {},
   "outputs": [
    {
     "name": "stdout",
     "output_type": "stream",
     "text": [
      "my name is gaurav\n"
     ]
    }
   ],
   "source": [
    "print(s.lower())"
   ]
  },
  {
   "cell_type": "code",
   "execution_count": 95,
   "id": "75dd273f-d639-46b4-8ded-3820ac529291",
   "metadata": {},
   "outputs": [
    {
     "name": "stdout",
     "output_type": "stream",
     "text": [
      "['My Name is', ' Gaurav$']\n"
     ]
    }
   ],
   "source": [
    "print(s.split('#'))"
   ]
  },
  {
   "cell_type": "code",
   "execution_count": 99,
   "id": "afc6648a-9856-406b-95bf-fbf2897e22e7",
   "metadata": {},
   "outputs": [],
   "source": [
    "d={\"k1\":1,\"k2\":2,\"k3\":3}"
   ]
  },
  {
   "cell_type": "code",
   "execution_count": 101,
   "id": "905ee82b-ca33-4264-8a77-e914bccefd24",
   "metadata": {},
   "outputs": [
    {
     "data": {
      "text/plain": [
       "{'k1': 1, 'k2': 2, 'k3': 3}"
      ]
     },
     "execution_count": 101,
     "metadata": {},
     "output_type": "execute_result"
    }
   ],
   "source": [
    "d"
   ]
  },
  {
   "cell_type": "code",
   "execution_count": 103,
   "id": "4d086584-06d5-4f92-83ad-4a7b4000d61a",
   "metadata": {},
   "outputs": [
    {
     "data": {
      "text/plain": [
       "dict_keys(['k1', 'k2', 'k3'])"
      ]
     },
     "execution_count": 103,
     "metadata": {},
     "output_type": "execute_result"
    }
   ],
   "source": [
    "d.keys()"
   ]
  },
  {
   "cell_type": "code",
   "execution_count": 105,
   "id": "e1ac1e2f-f77b-49c8-9772-54b8e6e25e89",
   "metadata": {},
   "outputs": [
    {
     "data": {
      "text/plain": [
       "dict_items([('k1', 1), ('k2', 2), ('k3', 3)])"
      ]
     },
     "execution_count": 105,
     "metadata": {},
     "output_type": "execute_result"
    }
   ],
   "source": [
    "d.items()"
   ]
  },
  {
   "cell_type": "code",
   "execution_count": 107,
   "id": "eabd8344-3205-44ed-9472-e7c865db4beb",
   "metadata": {},
   "outputs": [
    {
     "data": {
      "text/plain": [
       "dict_values([1, 2, 3])"
      ]
     },
     "execution_count": 107,
     "metadata": {},
     "output_type": "execute_result"
    }
   ],
   "source": [
    "d.values()"
   ]
  },
  {
   "cell_type": "code",
   "execution_count": 109,
   "id": "cee6c9bf-c6b2-4768-8475-7148db2af524",
   "metadata": {},
   "outputs": [],
   "source": [
    "lst=[1,2,3,4,5]"
   ]
  },
  {
   "cell_type": "code",
   "execution_count": 111,
   "id": "556043db-c1d1-4d8d-8a39-565740e1669e",
   "metadata": {},
   "outputs": [
    {
     "data": {
      "text/plain": [
       "5"
      ]
     },
     "execution_count": 111,
     "metadata": {},
     "output_type": "execute_result"
    }
   ],
   "source": [
    "lst.pop()"
   ]
  },
  {
   "cell_type": "code",
   "execution_count": 113,
   "id": "11899574-c063-4781-9387-d4cb8006453c",
   "metadata": {},
   "outputs": [
    {
     "data": {
      "text/plain": [
       "[1, 2, 3, 4]"
      ]
     },
     "execution_count": 113,
     "metadata": {},
     "output_type": "execute_result"
    }
   ],
   "source": [
    "lst"
   ]
  },
  {
   "cell_type": "code",
   "execution_count": 115,
   "id": "c2400bf0-9902-47bf-bff7-41aee78287e3",
   "metadata": {},
   "outputs": [
    {
     "data": {
      "text/plain": [
       "2"
      ]
     },
     "execution_count": 115,
     "metadata": {},
     "output_type": "execute_result"
    }
   ],
   "source": [
    "lst.pop(1)"
   ]
  },
  {
   "cell_type": "code",
   "execution_count": 117,
   "id": "b6055863-ba99-4dec-950a-6f25ed085489",
   "metadata": {},
   "outputs": [
    {
     "data": {
      "text/plain": [
       "[1, 3, 4]"
      ]
     },
     "execution_count": 117,
     "metadata": {},
     "output_type": "execute_result"
    }
   ],
   "source": [
    "lst"
   ]
  },
  {
   "cell_type": "code",
   "execution_count": null,
   "id": "d5551ad8-60c1-4003-83ca-03fc90d0128a",
   "metadata": {},
   "outputs": [],
   "source": []
  }
 ],
 "metadata": {
  "kernelspec": {
   "display_name": "anaconda-panel-2023.05-py310",
   "language": "python",
   "name": "conda-env-anaconda-panel-2023.05-py310-py"
  },
  "language_info": {
   "codemirror_mode": {
    "name": "ipython",
    "version": 3
   },
   "file_extension": ".py",
   "mimetype": "text/x-python",
   "name": "python",
   "nbconvert_exporter": "python",
   "pygments_lexer": "ipython3",
   "version": "3.11.5"
  }
 },
 "nbformat": 4,
 "nbformat_minor": 5
}
